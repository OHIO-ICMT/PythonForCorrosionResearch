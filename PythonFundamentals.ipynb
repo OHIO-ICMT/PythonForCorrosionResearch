{
 "cells": [
  {
   "cell_type": "markdown",
   "metadata": {
    "slideshow": {
     "slide_type": "slide"
    }
   },
   "source": [
    "# Python Fundamentals\n",
    "#### Python Course Day 0\n",
    "Martin Colahan\n"
   ]
  },
  {
   "cell_type": "markdown",
   "metadata": {
    "slideshow": {
     "slide_type": "slide"
    }
   },
   "source": [
    "## Outline\n",
    "1. Introduction to Programming\n",
    "2. Python Installation\n",
    "3. Python Fundamentals\n",
    "    * Datatypes and Collections\n",
    "    * Conditions and If statements\n",
    "    * Code reuse with loops and functions"
   ]
  },
  {
   "cell_type": "markdown",
   "metadata": {
    "slideshow": {
     "slide_type": "slide"
    }
   },
   "source": [
    "\n",
    "## Introduction to Programming"
   ]
  },
  {
   "cell_type": "markdown",
   "metadata": {
    "slideshow": {
     "slide_type": "slide"
    }
   },
   "source": [
    "### Programming Mindset\n",
    "https://www.youtube.com/watch?v=Ct-lOOUqmyY"
   ]
  },
  {
   "cell_type": "markdown",
   "metadata": {
    "slideshow": {
     "slide_type": "slide"
    }
   },
   "source": [
    "\n",
    "**Takeaway**: <br> Computers are dumb, but perform instructions incredibly well."
   ]
  },
  {
   "cell_type": "markdown",
   "metadata": {},
   "source": [
    "## Packages and Environment Managers\n",
    "Python programming heavily relies upon the use of packages like NumPy. This notebook is being run in the python package Jupyter. Many are included by default in Python in the \"Standard Library\". The standard library includes packages like `sys` and `os` for dealing with the operating system, `tkinter` for simple GUIs, and `unittest` for unit testing. More info on standard library packages can be found [here](https://docs.python.org/3/library/). \n",
    "\n",
    "An environment is used to contain and manage Python installations and the packages a particular program uses. It helps make sure that one application developed with Python 2 don't use packages developed for Python 3. Package and environment managers are critical is multiple people develop on the same project. Errors may arise if one developer is using a old version of a package and another is using the latest version.\n",
    "\n",
    "For people just now getting started with Python for data analytics, then I recommend to just create a single environment now and just keep using the same one for as long as it keeps working.\n",
    "\n",
    "## Installation\n",
    "We'll install Python through one of the two following methods: \n",
    "1. [Anaconda](https://www.anaconda.com/)\n",
    "2. [Miniconda](https://docs.conda.io/en/latest/miniconda.html) (preferred)\n",
    "\n",
    "Both installs use the Conda package and environment manager. It's generally the preferred manager in data science and scientific computing. Anaconda installs a ton of libraries to a base environment that ultimately are not needed, whereas miniconda just installs the conda package manager for the user to create a new environment. \n",
    "\n",
    "To use python with Conda, a user created environment must be used. While typically a `base` environment is created by default, but the user should create a new environment during setup.  \n",
    "\n",
    "## Environment Setup\n",
    "If installing for the first time then when it prompts to add python to the path, accept. If not then no worries, just use Anaconda Prompt when we need to use a terminal.\n",
    "\n",
    "Once installed then run the following commands (assuming using a Windows PC) in Command Prompt or Anaconda Prompt. Here `corrosion` is the name of the environment that we are creating. If you wish, you can use something else, but this tutorial will assume you are using the `corrosion` environment name. If it asks to proceed to install packages, please say yes by typing `y` and then hit enter.\n",
    "\n",
    "1. `conda create -n corrosion python=3.9 numpy pandas matplotlib scipy jupyter seaborn`\n",
    "\n",
    "This command creates an environment called corrosion with python version 3.9 and the NumPy, Pandas, matplotlib, SciPy, Jupyter, and Seaborn packages. We'll go through what these packages are in a future class.\n",
    "\n",
    "To activate the created environment, use the following:\n",
    "\n",
    "2. `conda activate corrosion`\n",
    "\n",
    "The default package manager for python is `pip`, however anaconda and conda have an alternative package and environment manager. It's recommended to use the conda package manager whenever possible. Packages that cannot be installed by conda will require pip installation. \n",
    "\n",
    "To open Jupyter:\n",
    "1. Open a terminal (windows: command prompt or powershell) and `cd` to the desired working directory\n",
    "2. `jupyter notebook`\n"
   ]
  },
  {
   "cell_type": "markdown",
   "metadata": {},
   "source": [
    "## First Steps: Printing\n",
    "\n",
    "Use `print(item_to_print)` to output something. Very useful for debugging and exploring how code works."
   ]
  },
  {
   "cell_type": "code",
   "execution_count": null,
   "metadata": {},
   "outputs": [],
   "source": [
    "print(\"Hello World!\")"
   ]
  },
  {
   "cell_type": "markdown",
   "metadata": {},
   "source": [
    "Hello world is the traditional first line of code to be written in any programming course, so of course I had to include it here :-)\n",
    "\n",
    "Jupyter Notebooks will also display something if it's the last line of executable code and is not being assigned to a variable. "
   ]
  },
  {
   "cell_type": "code",
   "execution_count": null,
   "metadata": {},
   "outputs": [],
   "source": [
    "x = \"This will be displayed by Jupyter\"\n",
    "x"
   ]
  },
  {
   "cell_type": "code",
   "execution_count": null,
   "metadata": {},
   "outputs": [],
   "source": [
    "x = \"this will not be displayed\"\n",
    "x\n",
    "y = \"because this line prevents it.\""
   ]
  },
  {
   "cell_type": "markdown",
   "metadata": {},
   "source": [
    "## Python Basic Datatypes:\n",
    "* Boolean (`True` or `False`)\n",
    "* Integer\n",
    "* Floating point number\n",
    "* String\n",
    "* Complex (`2+3j` where `j` is the imaginary number) \n",
    "\n",
    "## Declaring Variables\n",
    "As python is dynamically typed, so you do not need to declare what a variable is before instantiating it. \n",
    "You do not need a semicolon to specify a line end. \n",
    "Make sure indentation is at the correct level (I'll explain about this later)\n"
   ]
  },
  {
   "cell_type": "code",
   "execution_count": null,
   "metadata": {},
   "outputs": [],
   "source": [
    "my_var = 5\n",
    "print(my_var)\n",
    "print(type(my_var))"
   ]
  },
  {
   "cell_type": "markdown",
   "metadata": {},
   "source": [
    "### Good Practice:\n",
    "* Use descriptive variable names so that others reading your code can easily understand it\n",
    "* Use snake_case: `this_is_a_snake_case_variable_name`\n",
    "* Further information for good practices when writing Python code can be found in [PEP 8](https://www.python.org/dev/peps/pep-0008/).\n",
    "\n",
    "### Conversion between datatypes\n",
    " To convert `val` from one type to another simply call type with the `val` as the arguement.\n",
    "* `float(val)`\n",
    "* `int(val)`\n",
    "* `str(val)`\n"
   ]
  },
  {
   "cell_type": "code",
   "execution_count": null,
   "metadata": {},
   "outputs": [],
   "source": [
    "val = \"820\"\n",
    "val_float = float(val)\n",
    "val_int = int(val)\n",
    "val_float_str = str(val_float)\n",
    "\n",
    "print(val, type(val))\n",
    "print(val_float, type(val_float))\n",
    "print(val_int, type(val_int))\n",
    "print(val_float_str, type(val_float_str))\n"
   ]
  },
  {
   "cell_type": "markdown",
   "metadata": {},
   "source": [
    "## Arithmetic Operators \n"
   ]
  },
  {
   "cell_type": "code",
   "execution_count": null,
   "metadata": {},
   "outputs": [],
   "source": [
    "a = 3\n",
    "b = 2\n",
    "print(f'a = {a}')\n",
    "print(f'b = {b}')\n",
    "print(f'Addition: a + b = {a + b}')\n",
    "print(f'Subtraction: a - b = {a - b}')\n",
    "print(f'Multiplication: a * b = {a * b}')\n",
    "print(f'Division: a / b = {a / b}')\n",
    "print(f'Exponentiation: a ** b = {a ** b}')\n",
    "print(f'Modulo: a % b = {a % b}')\n"
   ]
  },
  {
   "cell_type": "markdown",
   "metadata": {},
   "source": [
    "The modulo operator gets the remainder of a division operation so "
   ]
  },
  {
   "cell_type": "code",
   "execution_count": null,
   "metadata": {},
   "outputs": [],
   "source": [
    "print(6 % 2)\n",
    "print(6 % 5)"
   ]
  },
  {
   "cell_type": "markdown",
   "metadata": {},
   "source": [
    "This operator is most useful if you are trying to see if a number is even or odd:\n",
    "* 5 % 2 = 1   ' Even\n",
    "* 8 % 2 = 0   ' Odd\n",
    "\n",
    "Python offers a shorthand if you are trying to update a variable in place.\n",
    "The following are executed the same way:\n",
    "\n",
    "* `i = i + 1`\n",
    "* `i += 1`\n",
    "\n",
    "\n",
    "This is super convenient for incrementers in loops and similar situations"
   ]
  },
  {
   "cell_type": "code",
   "execution_count": null,
   "metadata": {},
   "outputs": [],
   "source": [
    "i = 1\n",
    "i = i + 1\n",
    "print(i)\n",
    "\n",
    "i += 3\n",
    "print(i)"
   ]
  },
  {
   "cell_type": "markdown",
   "metadata": {},
   "source": [
    "**Note**: Arithmatic operations follows the order of operations\n"
   ]
  },
  {
   "cell_type": "code",
   "execution_count": null,
   "metadata": {},
   "outputs": [],
   "source": [
    "3 + 4 * 2 ** 2"
   ]
  },
  {
   "cell_type": "markdown",
   "metadata": {},
   "source": [
    "### Caution:"
   ]
  },
  {
   "cell_type": "code",
   "execution_count": null,
   "metadata": {},
   "outputs": [],
   "source": [
    "x = 1.1\n",
    "y = 2.2\n",
    "\n",
    "(x + y) == 3.3"
   ]
  },
  {
   "cell_type": "markdown",
   "metadata": {},
   "source": [
    "**Why**: Floating point values have inherent rounding to get them to fit into memory. See [here](https://docs.oracle.com/cd/E19957-01/806-3568/ncg_goldberg.html) for more info."
   ]
  },
  {
   "cell_type": "code",
   "execution_count": null,
   "metadata": {},
   "outputs": [],
   "source": [
    "print(x, y, x + y)"
   ]
  },
  {
   "cell_type": "markdown",
   "metadata": {},
   "source": [
    "## Comparison Operators\n",
    "`==`, `!=`, `>`, `<`, `>=`, `<=`, `in` (test if object in collection)    "
   ]
  },
  {
   "cell_type": "code",
   "execution_count": null,
   "metadata": {},
   "outputs": [],
   "source": [
    "a = 3\n",
    "b = 2\n",
    "a <= b"
   ]
  },
  {
   "cell_type": "markdown",
   "metadata": {},
   "source": [
    "### Logical Operators: `and`, `or`, `not`\n",
    "Compare multiple booleans \n",
    "\n",
    "* `and`: True if both comparison are true, else false\n",
    "* `or`: True if at least one is true\n",
    "* `not` opposite of the boolean value\n"
   ]
  },
  {
   "cell_type": "code",
   "execution_count": null,
   "metadata": {},
   "outputs": [],
   "source": [
    "x = 2\n",
    "y = 2\n",
    "\n",
    "print(True or False)\n",
    "\n",
    "print(x > 1 and y < 2)\n",
    "\n",
    "print(not x < 2)\n",
    "\n"
   ]
  },
  {
   "cell_type": "markdown",
   "metadata": {},
   "source": [
    "## Lists & Tuples\n",
    "### Lists: `[a, b, c]`\n",
    "Properties:\n",
    "* Indexable: objects can be retrived by their location (base 0) in the list: `a[0]` retrieves the first item in the list \n",
    "* Ordered: objects do not change index unless specified otherwise\n",
    "* Mutable: Items in a list can be changed, items can be added/removed, etc.\n",
    "* Nestable: An object in a list can be another list\n"
   ]
  },
  {
   "cell_type": "markdown",
   "metadata": {},
   "source": [
    "#### Creating a List\n",
    "\n",
    "Use brackets `[]` with elements inside to create a list"
   ]
  },
  {
   "cell_type": "code",
   "execution_count": null,
   "metadata": {},
   "outputs": [],
   "source": [
    "my_list = [1, 2, 3, \"green\"]"
   ]
  },
  {
   "cell_type": "markdown",
   "metadata": {},
   "source": [
    "Items may be added using the following methods:\n",
    "* `append(item)`: add an item to the end of a list\n",
    "* `insert(index, item)`: insert something to a list at a particular index"
   ]
  },
  {
   "cell_type": "code",
   "execution_count": null,
   "metadata": {},
   "outputs": [],
   "source": [
    "my_list.append(99)\n",
    "print(my_list)"
   ]
  },
  {
   "cell_type": "code",
   "execution_count": null,
   "metadata": {},
   "outputs": [],
   "source": [
    "my_list.insert(2, \"Hi\")\n",
    "print(my_list)"
   ]
  },
  {
   "cell_type": "markdown",
   "metadata": {},
   "source": [
    "Lists may be combined together using the + sign"
   ]
  },
  {
   "cell_type": "code",
   "execution_count": null,
   "metadata": {},
   "outputs": [],
   "source": [
    "list_to_combine = [\"b1\", \"b2\"]\n",
    "combined_list = my_list + list_to_combine\n",
    "print(combined_list)"
   ]
  },
  {
   "cell_type": "markdown",
   "metadata": {},
   "source": [
    "Elements in a list may be changed."
   ]
  },
  {
   "cell_type": "code",
   "execution_count": null,
   "metadata": {},
   "outputs": [],
   "source": [
    "my_list[1] = \"Howdy\"\n",
    "print(my_list)"
   ]
  },
  {
   "cell_type": "markdown",
   "metadata": {},
   "source": [
    "#### Indexing: \n",
    "Python has many useful ways to access single elements or multiple elements in a list. This way of indexing items will carry over to other python packages especially NumPy and Pandas.\n",
    "\n",
    "Lists may be indexed by the integer location or an element: \n"
   ]
  },
  {
   "cell_type": "code",
   "execution_count": null,
   "metadata": {},
   "outputs": [],
   "source": [
    "a = [5,6,7,8,9,10,11,12,13]\n",
    "print(a[1])\n",
    "print(a[5])"
   ]
  },
  {
   "cell_type": "markdown",
   "metadata": {},
   "source": [
    "Note: Python is base 0 as opposed to MATLAB which is base 1 which is why `a[1]` gave the second element in the list.\n",
    "\n",
    "If you wish to index from the end of a list then use negative integers:"
   ]
  },
  {
   "cell_type": "code",
   "execution_count": null,
   "metadata": {},
   "outputs": [],
   "source": [
    "print(a[-1])    # gets the last element\n",
    "print(a[-2])    # gets the second to last element"
   ]
  },
  {
   "cell_type": "markdown",
   "metadata": {},
   "source": [
    "Multiple items may be retrieved using careful use of `:`.\n",
    "\n",
    "* `x:`    -  Get all elements starting from index $x$"
   ]
  },
  {
   "cell_type": "code",
   "execution_count": null,
   "metadata": {},
   "outputs": [],
   "source": [
    "print(a)\n",
    "a[4:]"
   ]
  },
  {
   "cell_type": "markdown",
   "metadata": {},
   "source": [
    "* `:x` - Get all elements up to but not including $x$ "
   ]
  },
  {
   "cell_type": "code",
   "execution_count": null,
   "metadata": {},
   "outputs": [],
   "source": [
    "a[:3]"
   ]
  },
  {
   "cell_type": "markdown",
   "metadata": {},
   "source": [
    "* `x:y` - Get all elements between $x$ and $y$. Includes $x$ but not $y$. "
   ]
  },
  {
   "cell_type": "code",
   "execution_count": null,
   "metadata": {},
   "outputs": [],
   "source": [
    "a[1:4]"
   ]
  },
  {
   "cell_type": "code",
   "execution_count": null,
   "metadata": {},
   "outputs": [],
   "source": [
    "a[1:-1]"
   ]
  },
  {
   "cell_type": "markdown",
   "metadata": {},
   "source": [
    "##### Advanced Indexing\n",
    "You may get items in steps using a syntax like\n",
    "`a[start:stop:step]`"
   ]
  },
  {
   "cell_type": "code",
   "execution_count": null,
   "metadata": {},
   "outputs": [],
   "source": [
    "# starting from index 1 up to but not including the last one, \n",
    "# get items in steps of 2 (every other)\n",
    "print(a)\n",
    "a[1:-1:2]"
   ]
  },
  {
   "cell_type": "code",
   "execution_count": null,
   "metadata": {},
   "outputs": [],
   "source": [
    "# get every 3rd item in a list\n",
    "a[::3]"
   ]
  },
  {
   "cell_type": "code",
   "execution_count": null,
   "metadata": {},
   "outputs": [],
   "source": [
    "# how about in reverse order?\n",
    "a[::-1]"
   ]
  },
  {
   "cell_type": "markdown",
   "metadata": {},
   "source": [
    "### Exercise\n",
    "* Retrieve the items in `my_list` between the 5th item and the 3rd to last item. \n",
    "* Then get the items between the 4th item to the end but skip every other item."
   ]
  },
  {
   "cell_type": "code",
   "execution_count": null,
   "metadata": {},
   "outputs": [],
   "source": [
    "my_list = [2, 11, 12, 1, 16, 6, 14, 6, 9, 15, 6, 4, 13, 5, 16, 2, 0, 5, 11, 12]\n",
    "print(my_list[4:-2])\n",
    "my_list[3::2]"
   ]
  },
  {
   "cell_type": "markdown",
   "metadata": {},
   "source": [
    "### Some More Useful List things:\n",
    "\n",
    "* `len(list)`: get the length of a collection\n",
    "* `list(some_object)`: Try to create a list from `some_object` if it is iterable.\n",
    "* `my_list.remove(item)`: remove `item` from a list if it exists. If it exists multiple times, then removes the first occurance."
   ]
  },
  {
   "cell_type": "code",
   "execution_count": null,
   "metadata": {},
   "outputs": [],
   "source": [
    "my_list = [2,1,6,3,7,3,6]\n",
    "print(len(my_list))\n",
    "my_list.remove(6)\n",
    "print(my_list)"
   ]
  },
  {
   "cell_type": "code",
   "execution_count": null,
   "metadata": {},
   "outputs": [],
   "source": [
    "my_list = [4,5,7,3,9]\n",
    "my_list.insert(3, 99)\n",
    "print(my_list)"
   ]
  },
  {
   "cell_type": "markdown",
   "metadata": {},
   "source": [
    "### Use `in` to check if a list contains an item"
   ]
  },
  {
   "cell_type": "code",
   "execution_count": null,
   "metadata": {},
   "outputs": [],
   "source": [
    "99 in my_list"
   ]
  },
  {
   "cell_type": "markdown",
   "metadata": {},
   "source": [
    "### Tuples: `(a, b)`\n",
    "\n",
    "Tuples are similar to lists but have some significant differences. Tuples can be thought of being as lists that cannot be messed with in any way.\n",
    "\n",
    "Properties:\n",
    "* Ordered\n",
    "* Immutable\n",
    "* Indexable\n",
    "\n",
    "Typically used when you have a set of ordered items that you don't want changed, ex: multiple function returns "
   ]
  },
  {
   "cell_type": "code",
   "execution_count": null,
   "metadata": {},
   "outputs": [],
   "source": [
    "my_tup = (1,2,3,4)\n",
    "my_tup[2:]"
   ]
  },
  {
   "cell_type": "code",
   "execution_count": null,
   "metadata": {},
   "outputs": [],
   "source": [
    "my_tup[0] = 4"
   ]
  },
  {
   "cell_type": "markdown",
   "metadata": {},
   "source": [
    "Exception: objects that are contained in a tuple may be altered. "
   ]
  },
  {
   "cell_type": "code",
   "execution_count": null,
   "metadata": {},
   "outputs": [],
   "source": [
    "my_list = [1,2,3]\n",
    "my_tup = (0, my_list, \"some random string\")\n",
    "\n",
    "print(my_tup)\n",
    "\n",
    "my_list[1] = 99\n",
    "\n",
    "print(my_tup)"
   ]
  },
  {
   "cell_type": "markdown",
   "metadata": {},
   "source": [
    "## Strings\n",
    "Strings let you store and manipulate text in Python. They behave very similarly to tuples in that a character in a string can be considered an item in a tuple. \n",
    "\n",
    "You can define a string with either  `\"\"` or `''`. "
   ]
  },
  {
   "cell_type": "code",
   "execution_count": null,
   "metadata": {},
   "outputs": [],
   "source": [
    "string1 = \"foo\"\n",
    "string2 = 'foo'\n",
    "string1 == string2"
   ]
  },
  {
   "cell_type": "markdown",
   "metadata": {},
   "source": [
    "Strings can be joined (concatenated) together with the `+` symbol."
   ]
  },
  {
   "cell_type": "code",
   "execution_count": null,
   "metadata": {},
   "outputs": [],
   "source": [
    "'foo' + 'bar'"
   ]
  },
  {
   "cell_type": "markdown",
   "metadata": {},
   "source": [
    "To create a string with variable values, then you can use an `f`-string where the values are inserted into a string with `{}`."
   ]
  },
  {
   "cell_type": "code",
   "execution_count": null,
   "metadata": {},
   "outputs": [],
   "source": [
    "mission = \"Apollo 11\"\n",
    "year = 1969\n",
    "my_string = f'{mission} landed on the moon in {year}.'\n",
    "print(my_string)"
   ]
  },
  {
   "cell_type": "markdown",
   "metadata": {},
   "source": [
    "\n",
    "Indexing strings to obtain substrings follow the same rules as lists. Each character in the string can be considered like an item in a list."
   ]
  },
  {
   "cell_type": "code",
   "execution_count": null,
   "metadata": {},
   "outputs": [],
   "source": [
    "my_string[10:28]"
   ]
  },
  {
   "cell_type": "markdown",
   "metadata": {},
   "source": [
    "Use the `in` comparator to see if a string contains a particular substring."
   ]
  },
  {
   "cell_type": "code",
   "execution_count": null,
   "metadata": {},
   "outputs": [],
   "source": [
    "\"Apollo\" in my_string"
   ]
  },
  {
   "cell_type": "markdown",
   "metadata": {},
   "source": [
    "A string is immutable so characters cannot be adjusted in place. A work around is reassignment."
   ]
  },
  {
   "cell_type": "code",
   "execution_count": null,
   "metadata": {},
   "outputs": [],
   "source": [
    "my_string[0] = \"a\"\n",
    "# my_string = \"a\" + my_string[1:]"
   ]
  },
  {
   "cell_type": "markdown",
   "metadata": {},
   "source": [
    "Some useful methods:\n",
    "* `lower` : Convert string to use all lowercase characters\n",
    "* `upper` : Convert string to use all uppercase characters\n",
    "* `split(split_str)` : Splits a string into a list of strings split by some substring\n",
    "* `isnumeric`: tests if all characters in a string are numeric (0-9)\n",
    "\n",
    "These are just the ones I use regularly. There are so many more. Check [this source](https://www.w3schools.com/python/python_strings_methods.asp) out for more!  "
   ]
  },
  {
   "cell_type": "code",
   "execution_count": null,
   "metadata": {},
   "outputs": [],
   "source": [
    "print(\"ICMT\".lower())\n",
    "print(\"sem\".upper())\n",
    "print(\"This is a test\".split(\" \"))\n",
    "print(\"1235\".isnumeric())"
   ]
  },
  {
   "cell_type": "markdown",
   "metadata": {},
   "source": [
    "## Dictionaries: `{a: b}`\n",
    "A collection of key-value pairs.\n",
    "\n",
    "Properties:\n",
    "* Unordered\n",
    "* Mutable\n",
    "* Items accessed by keys\n",
    "* Duplicate keys are not allowed"
   ]
  },
  {
   "cell_type": "code",
   "execution_count": null,
   "metadata": {},
   "outputs": [],
   "source": [
    "demo = {\n",
    "    'a': 1, \n",
    "    'b': 2, \n",
    "    'c': 3, \n",
    "    'd': 4\n",
    "}\n",
    "demo['a']"
   ]
  },
  {
   "cell_type": "code",
   "execution_count": null,
   "metadata": {},
   "outputs": [],
   "source": [
    "demo['z'] = 99\n",
    "demo"
   ]
  },
  {
   "cell_type": "code",
   "execution_count": null,
   "metadata": {},
   "outputs": [],
   "source": [
    "MW = {'C': 12.01, 'N': 14.01, 'O': 16.00, 'Fe': 55.845}\n",
    "MW"
   ]
  },
  {
   "cell_type": "code",
   "execution_count": null,
   "metadata": {},
   "outputs": [],
   "source": [
    "MW['H'] = 1.01\n",
    "MW"
   ]
  },
  {
   "cell_type": "code",
   "execution_count": null,
   "metadata": {
    "scrolled": true
   },
   "outputs": [],
   "source": [
    "print(len(MW))\n",
    "\n",
    "# some useful dictionary properties for iteration \n",
    "# print(MW.keys())\n",
    "print(MW.values())\n",
    "MW.items() \n"
   ]
  },
  {
   "cell_type": "markdown",
   "metadata": {},
   "source": [
    "# Flow Control\n",
    "\n",
    "There are several ways of controlling what code gets executed, when it is executed, and how many times its executed.\n",
    "\n",
    "These include:\n",
    "* `if` statements: Choose what to execute based on a boolean condition\n",
    "* `for` loops: Loop a known number of times\n",
    "* `while` loops: Loop an unknown number of times while a condition is true\n",
    "* `Functions`: Execute some code based on some inputs\n",
    "* `class`: Create a user-defined object type for easier data access, etc. Covered in the advanced programming Python programming course later. \n",
    "\n",
    "## If Statements\n",
    "\n",
    "If statments help control the flow of code. Used when you want code to run based on conditions.\n",
    "\n",
    "### Basic syntax: \n",
    "* colon: notifies the interpreter that an indentation block should be expected\n",
    "* Code blocks are defined based on indentation level\n",
    "\n",
    "**Indentation Matters!**\n",
    "\n",
    "```\n",
    "if condition1:\n",
    "    # do this if condition1 is true\n",
    "elif condition2:\n",
    "    # do this if condition1 is false, but condition2 is true\n",
    "else:\n",
    "    # do this by default if both condition1 and condition2 are false \n",
    "    \n",
    "this line gets executed even outside of else statement because it is not in the indentation block \n",
    "```\n"
   ]
  },
  {
   "cell_type": "code",
   "execution_count": null,
   "metadata": {},
   "outputs": [],
   "source": [
    "x = 10\n",
    "if x < 10:\n",
    "    print(\"x is less than 10\")\n",
    "elif x > 10:\n",
    "    print(\"x is large\")\n",
    "else:\n",
    "    print(\"x = 10\")\n",
    "\n",
    "print(False) # runs no matter what because not in the else code block"
   ]
  },
  {
   "cell_type": "markdown",
   "metadata": {},
   "source": [
    "## Looping\n",
    "\n",
    "### For Loop\n",
    "\n",
    "A for loop iterates through each item in a collection.\n",
    "\n",
    "In my experience, a `for` loop will handle the majority of the situations where looping is necessary.\n"
   ]
  },
  {
   "cell_type": "code",
   "execution_count": null,
   "metadata": {},
   "outputs": [],
   "source": [
    "my_list = [33, 90, 23,  75]\n",
    "for val in my_list:  # interpretted as for each val in my_list\n",
    "    print(val)"
   ]
  },
  {
   "cell_type": "code",
   "execution_count": null,
   "metadata": {},
   "outputs": [],
   "source": [
    "my_list = [1,2,3,4]\n",
    "new_list = []\n",
    "for value in my_list:\n",
    "    new_list.append(value + 1)\n",
    "    \n",
    "print(new_list)"
   ]
  },
  {
   "cell_type": "markdown",
   "metadata": {},
   "source": [
    "If you wish to iterate a certain number of times then use `range` to quickly setup a collection to iterate upon:  "
   ]
  },
  {
   "cell_type": "code",
   "execution_count": null,
   "metadata": {},
   "outputs": [],
   "source": [
    "for i in range(4):\n",
    "    print(i)"
   ]
  },
  {
   "cell_type": "markdown",
   "metadata": {},
   "source": [
    "Note: it did not print a value of 4 because the collection only had four items starting from Python's base, 0. Could be considered similar to Python's list indexing where indexing :3 gives the first to the 3rd item in the list (index 2)."
   ]
  },
  {
   "cell_type": "markdown",
   "metadata": {},
   "source": [
    "Besides iterating over a list, here are some more useful things to iterate upon:\n",
    "* `for i in range(n)` : iterates $n$ times\n",
    "* `for key, val in demo_dictionary.items()` (see demo below)\n",
    "* `for index, row in pandas_dataframe.iterrows()` (explained in a later class)"
   ]
  },
  {
   "cell_type": "code",
   "execution_count": null,
   "metadata": {},
   "outputs": [],
   "source": [
    "demo = {'a': [1, 2, 3], 'b': \"howdy\", 'c': 99}\n",
    "for key, val in demo.items():   # note: the items() collection is a collection of tuples, \n",
    "                                    #   but key, val splits it automatically \n",
    "    print(f'The value for key {key} is {str(val)}')\n"
   ]
  },
  {
   "cell_type": "markdown",
   "metadata": {},
   "source": [
    "### Exercise: Fibbonacci Sequence\n",
    "The Fibonacci sequence is a sequence of numbers where a value of a number in the sequence is the sum of the past two.\n",
    "\n",
    "**Example**: 1, 1, 2, 3, 5, 8, 13, 21, ...\n",
    "\n",
    "Write a script that generates `n` numbers of the Fibonnaci sequence from the first two numbers of 1,1 and puts them into a list. "
   ]
  },
  {
   "cell_type": "code",
   "execution_count": null,
   "metadata": {},
   "outputs": [],
   "source": [
    "n = 20\n"
   ]
  },
  {
   "cell_type": "markdown",
   "metadata": {},
   "source": [
    "#### For Loop List Comprehensions\n",
    "A list comprehension is like using a for loop inside a list to define the values of the list:\n",
    "\n",
    "They are more-or-less just a shortcut to create lists in a single line.\n",
    "\n",
    "**Caution**: Use them only if doing simple stuff to create the list. Use a full for loop if the logic is complicated. It's better to create readable code than to play code golf."
   ]
  },
  {
   "cell_type": "code",
   "execution_count": null,
   "metadata": {},
   "outputs": [],
   "source": [
    "\n",
    "my_list = [i for i in range(10) ]\n",
    "\n",
    "print(my_list)\n",
    "\n",
    "full_list = []\n",
    "for i in range(10):\n",
    "    full_list.append(i)\n",
    "    \n",
    "print(full_list)"
   ]
  },
  {
   "cell_type": "code",
   "execution_count": null,
   "metadata": {},
   "outputs": [],
   "source": [
    "# for loop with conditions\n",
    "\n",
    "# get values between 0 and 1000 divisible by 5\n",
    "my_list_comp = [i for i in range(1001) if i % 5 == 0]"
   ]
  },
  {
   "cell_type": "markdown",
   "metadata": {},
   "source": [
    "### While Loops\n",
    "A while loop is used when you want a piece of code to execute \"while\" a certain condition is true:"
   ]
  },
  {
   "cell_type": "code",
   "execution_count": null,
   "metadata": {},
   "outputs": [],
   "source": [
    "x = 0\n",
    "while x < 5:\n",
    "    print(x)\n",
    "    x += 1\n"
   ]
  },
  {
   "cell_type": "markdown",
   "metadata": {},
   "source": [
    "**Caution**: It is super easy to create code that runs in a infinite loop when using while loops. \n",
    "\n",
    "One potential fix is to have a counter to create a ceiling number of iterations that the code my run\n",
    "\n",
    "*Example*: "
   ]
  },
  {
   "cell_type": "code",
   "execution_count": null,
   "metadata": {},
   "outputs": [],
   "source": [
    "x = 1\n",
    "# while x > 0:  \n",
    "\n",
    "#     x += 1\n"
   ]
  },
  {
   "cell_type": "code",
   "execution_count": null,
   "metadata": {},
   "outputs": [],
   "source": [
    "x"
   ]
  },
  {
   "cell_type": "markdown",
   "metadata": {},
   "source": [
    "#### Flow Control: `break` and `continue`\n",
    "\n",
    "* `break`: exit a loop\n",
    "* `continue`: go back to the start of the loop"
   ]
  },
  {
   "cell_type": "code",
   "execution_count": null,
   "metadata": {},
   "outputs": [],
   "source": [
    "my_list = []\n",
    "for n in range(100):\n",
    "    if n % 2 != 0:\n",
    "        continue\n",
    "    else:\n",
    "        my_list.append(n)\n",
    "        \n",
    "    if n > 20:\n",
    "        break\n",
    "    \n",
    "    \n",
    "print(my_list)"
   ]
  },
  {
   "cell_type": "markdown",
   "metadata": {},
   "source": [
    "## Functions\n",
    "\n",
    "Functions allow for easy code reuse. Code can be executed with a simple function call passing in the relevent inputs known as arguments. They are also how an object's methods are defined. \n",
    "\n",
    "A function's inputs can be defined as to be either required if without a default value or optional if a default value is specified.  \n",
    "\n",
    "Functions can optionally return a value or set of values \n",
    "\n",
    "Functions are **def**ined as follows:"
   ]
  },
  {
   "cell_type": "code",
   "execution_count": null,
   "metadata": {},
   "outputs": [],
   "source": [
    "def func_name(required_input_1, required_input_2, \n",
    "                optional_input_1=None, optional_input_2=None):\n",
    "    # Do stuff\n",
    "    print(optional_input_2)\n",
    "    return 'bar'   # returns a single value (in this case a string)\n",
    "\n",
    "def multiple_output_func():\n",
    "    a = 1\n",
    "    b = 2\n",
    "    return a, b # returns two values. \n",
    "                # The caller will receive a tuple of these two variables,\n",
    "                # but could be unpacked automatically like the example below\n",
    "\n",
    "def add_vals(a, b, c=0):\n",
    "    return a + b + c\n",
    "\n",
    "print(func_name(1,2, optional_input_2='me'))\n",
    "\n",
    "\n",
    "\n",
    "print(add_vals(1,2))\n",
    "\n",
    "print(multiple_output_func())  # outputs a tuple (a, b)\n",
    "c, d = multiple_output_func()  # unpacks the return tuple onto variables c and d \n",
    "print(c)\n",
    "\n"
   ]
  },
  {
   "cell_type": "markdown",
   "metadata": {},
   "source": [
    "## Wrapping up\n",
    "\n",
    "This has been a relatively brief introduction to the core of the Python programming language. This lecture was by no means exhaustive, but it should get you at least up-and-running with Python programming. If you wish to learn more about the fundamentals of Python then I recommend the following sources:\n",
    "\n",
    "* [python.org](https://docs.python.org/3/)\n",
    "* [realpython.com](https://realpython.com/)\n",
    "* For specific questions: [Google and StackOverflow](https://stackoverflow.com/)\n",
    "* For a challenge: [CodeWars](https://www.codewars.com/)\n",
    "* [Codecademy](https://www.codecademy.com/)\n",
    "* [Me](mailto:mc754013@ohio.edu). Feel free to ask me for help if you are stuck on something. \n",
    "\n",
    "In the next few tutorial sessions, we'll introduce the packages that really make Python so useful for corrosion research.\n"
   ]
  },
  {
   "cell_type": "code",
   "execution_count": null,
   "metadata": {},
   "outputs": [],
   "source": []
  },
  {
   "cell_type": "markdown",
   "metadata": {},
   "source": [
    "## Programming Exercises\n",
    "The following exercises can be completed using the information discussed above. Give them a go! When you complete the exercises or are stuck on something, then come talk to me and I will sit with you to review your code. For more challenges check out [Project Euler](https://projecteuler.net/)!\n",
    "\n"
   ]
  },
  {
   "cell_type": "markdown",
   "metadata": {},
   "source": [
    "### Exercise 1: Even Fibonacci Numbers \n",
    "##### Project Euler Problem 2\n",
    "\n",
    "Each new term in the Fibonacci sequence is generated by adding the previous two terms. By starting with 1 and 2, the first 10 terms will be: \n",
    "$$ 1, 2, 3, 5, 8, 13, 21, 34, 55, 89, ... $$\n",
    "\n",
    "By considering the terms in the Fibonacci sequence whose values do not exceed four million, find the sum of the even-valued terms.\n"
   ]
  },
  {
   "cell_type": "code",
   "execution_count": null,
   "metadata": {},
   "outputs": [],
   "source": []
  },
  {
   "cell_type": "markdown",
   "metadata": {},
   "source": [
    "## Exercise 2: Sum of Primes\n",
    "##### Based on Project Euler Problem 10\n",
    "The sum of the primes below 10 is 2 + 3 + 5 + 7 = 17.\n",
    "\n",
    "Find the sum of all the primes below 100,000.\n"
   ]
  },
  {
   "cell_type": "code",
   "execution_count": null,
   "metadata": {},
   "outputs": [],
   "source": []
  },
  {
   "cell_type": "markdown",
   "metadata": {},
   "source": [
    "## Exercise 3: Pig Latin\n",
    "\n",
    "Pig latin basically moves the first letter of a word to the last and then adds \"ay\" to the end of it. So the word \"corrosion\" becomes \"orrosioncay\". \n",
    "\n",
    "Create a function that accepts a string that could be a word or a whole sentence and returns that string translated into pig latin.  "
   ]
  },
  {
   "cell_type": "code",
   "execution_count": null,
   "metadata": {},
   "outputs": [],
   "source": []
  },
  {
   "cell_type": "markdown",
   "metadata": {},
   "source": []
  },
  {
   "cell_type": "code",
   "execution_count": null,
   "metadata": {},
   "outputs": [],
   "source": []
  },
  {
   "cell_type": "code",
   "execution_count": null,
   "metadata": {},
   "outputs": [],
   "source": []
  }
 ],
 "metadata": {
  "celltoolbar": "Slideshow",
  "kernelspec": {
   "display_name": "Python 3",
   "language": "python",
   "name": "python3"
  },
  "language_info": {
   "codemirror_mode": {
    "name": "ipython",
    "version": 3
   },
   "file_extension": ".py",
   "mimetype": "text/x-python",
   "name": "python",
   "nbconvert_exporter": "python",
   "pygments_lexer": "ipython3",
   "version": "3.9.5"
  }
 },
 "nbformat": 4,
 "nbformat_minor": 4
}
